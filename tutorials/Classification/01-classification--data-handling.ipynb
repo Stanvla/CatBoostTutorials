{
 "cells": [
  {
   "cell_type": "markdown",
   "metadata": {},
   "source": [
    "# Solving classification problems with CatBoost"
   ]
  },
  {
   "cell_type": "markdown",
   "metadata": {},
   "source": [
    "[![Open In Colab](https://colab.research.google.com/assets/colab-badge.svg)](https://colab.research.google.com/github/catboost/tutorials/blob/master/classification/classification_tutorial.ipynb)\n",
    "\n",
    "In this tutorial we will use dataset Amazon Employee Access Challenge from [Kaggle](https://www.kaggle.com) competition for our experiments. Data can be downloaded [here](https://www.kaggle.com/c/amazon-employee-access-challenge/data).\n",
    "\n",
    "Link to [Youtube video](https://youtu.be/xl1fwCza9C8?t=644). "
   ]
  },
  {
   "cell_type": "markdown",
   "metadata": {},
   "source": [
    "## Libraries installation"
   ]
  },
  {
   "cell_type": "code",
   "execution_count": 1,
   "metadata": {},
   "outputs": [],
   "source": [
    "#!pip install --user --upgrade catboost\n",
    "#!pip install --user --upgrade ipywidgets\n",
    "#!pip install shap\n",
    "#!pip install sklearn\n",
    "#!pip install --upgrade numpy\n",
    "#!jupyter nbextension enable --py widgetsnbextension"
   ]
  },
  {
   "cell_type": "code",
   "execution_count": 1,
   "metadata": {},
   "outputs": [
    {
     "name": "stdout",
     "output_type": "stream",
     "text": [
      "0.26.1\n",
      "Python 3.9.12\r\n"
     ]
    }
   ],
   "source": [
    "import catboost\n",
    "print(catboost.__version__)\n",
    "!python --version"
   ]
  },
  {
   "cell_type": "markdown",
   "metadata": {},
   "source": [
    "## Reading the data"
   ]
  },
  {
   "cell_type": "code",
   "execution_count": 2,
   "metadata": {},
   "outputs": [],
   "source": [
    "import pandas as pd\n",
    "import os\n",
    "import numpy as np\n",
    "np.set_printoptions(precision=4)\n",
    "import catboost\n",
    "from catboost import *\n",
    "from catboost import datasets"
   ]
  },
  {
   "cell_type": "markdown",
   "metadata": {},
   "source": [
    "Here in all columns we have numbers, these numbers are hashes of strings, so they should be considered as categorical variables."
   ]
  },
  {
   "cell_type": "code",
   "execution_count": 3,
   "metadata": {},
   "outputs": [
    {
     "data": {
      "text/html": [
       "<div>\n",
       "<style scoped>\n",
       "    .dataframe tbody tr th:only-of-type {\n",
       "        vertical-align: middle;\n",
       "    }\n",
       "\n",
       "    .dataframe tbody tr th {\n",
       "        vertical-align: top;\n",
       "    }\n",
       "\n",
       "    .dataframe thead th {\n",
       "        text-align: right;\n",
       "    }\n",
       "</style>\n",
       "<table border=\"1\" class=\"dataframe\">\n",
       "  <thead>\n",
       "    <tr style=\"text-align: right;\">\n",
       "      <th></th>\n",
       "      <th>ACTION</th>\n",
       "      <th>RESOURCE</th>\n",
       "      <th>MGR_ID</th>\n",
       "      <th>ROLE_ROLLUP_1</th>\n",
       "      <th>ROLE_ROLLUP_2</th>\n",
       "      <th>ROLE_DEPTNAME</th>\n",
       "      <th>ROLE_TITLE</th>\n",
       "      <th>ROLE_FAMILY_DESC</th>\n",
       "      <th>ROLE_FAMILY</th>\n",
       "      <th>ROLE_CODE</th>\n",
       "    </tr>\n",
       "  </thead>\n",
       "  <tbody>\n",
       "    <tr>\n",
       "      <th>0</th>\n",
       "      <td>1</td>\n",
       "      <td>39353</td>\n",
       "      <td>85475</td>\n",
       "      <td>117961</td>\n",
       "      <td>118300</td>\n",
       "      <td>123472</td>\n",
       "      <td>117905</td>\n",
       "      <td>117906</td>\n",
       "      <td>290919</td>\n",
       "      <td>117908</td>\n",
       "    </tr>\n",
       "    <tr>\n",
       "      <th>1</th>\n",
       "      <td>1</td>\n",
       "      <td>17183</td>\n",
       "      <td>1540</td>\n",
       "      <td>117961</td>\n",
       "      <td>118343</td>\n",
       "      <td>123125</td>\n",
       "      <td>118536</td>\n",
       "      <td>118536</td>\n",
       "      <td>308574</td>\n",
       "      <td>118539</td>\n",
       "    </tr>\n",
       "    <tr>\n",
       "      <th>2</th>\n",
       "      <td>1</td>\n",
       "      <td>36724</td>\n",
       "      <td>14457</td>\n",
       "      <td>118219</td>\n",
       "      <td>118220</td>\n",
       "      <td>117884</td>\n",
       "      <td>117879</td>\n",
       "      <td>267952</td>\n",
       "      <td>19721</td>\n",
       "      <td>117880</td>\n",
       "    </tr>\n",
       "    <tr>\n",
       "      <th>3</th>\n",
       "      <td>1</td>\n",
       "      <td>36135</td>\n",
       "      <td>5396</td>\n",
       "      <td>117961</td>\n",
       "      <td>118343</td>\n",
       "      <td>119993</td>\n",
       "      <td>118321</td>\n",
       "      <td>240983</td>\n",
       "      <td>290919</td>\n",
       "      <td>118322</td>\n",
       "    </tr>\n",
       "    <tr>\n",
       "      <th>4</th>\n",
       "      <td>1</td>\n",
       "      <td>42680</td>\n",
       "      <td>5905</td>\n",
       "      <td>117929</td>\n",
       "      <td>117930</td>\n",
       "      <td>119569</td>\n",
       "      <td>119323</td>\n",
       "      <td>123932</td>\n",
       "      <td>19793</td>\n",
       "      <td>119325</td>\n",
       "    </tr>\n",
       "  </tbody>\n",
       "</table>\n",
       "</div>"
      ],
      "text/plain": [
       "   ACTION  RESOURCE  MGR_ID  ROLE_ROLLUP_1  ROLE_ROLLUP_2  ROLE_DEPTNAME  \\\n",
       "0       1     39353   85475         117961         118300         123472   \n",
       "1       1     17183    1540         117961         118343         123125   \n",
       "2       1     36724   14457         118219         118220         117884   \n",
       "3       1     36135    5396         117961         118343         119993   \n",
       "4       1     42680    5905         117929         117930         119569   \n",
       "\n",
       "   ROLE_TITLE  ROLE_FAMILY_DESC  ROLE_FAMILY  ROLE_CODE  \n",
       "0      117905            117906       290919     117908  \n",
       "1      118536            118536       308574     118539  \n",
       "2      117879            267952        19721     117880  \n",
       "3      118321            240983       290919     118322  \n",
       "4      119323            123932        19793     119325  "
      ]
     },
     "execution_count": 3,
     "metadata": {},
     "output_type": "execute_result"
    }
   ],
   "source": [
    "(train_df, test_df) = catboost.datasets.amazon()\n",
    "train_df.head()"
   ]
  },
  {
   "cell_type": "markdown",
   "metadata": {},
   "source": [
    "## Preparing your data"
   ]
  },
  {
   "cell_type": "markdown",
   "metadata": {},
   "source": [
    "Categorical features declaration"
   ]
  },
  {
   "cell_type": "code",
   "execution_count": 4,
   "metadata": {},
   "outputs": [
    {
     "name": "stdout",
     "output_type": "stream",
     "text": [
      "[0, 1, 2, 3, 4, 5, 6, 7, 8]\n"
     ]
    }
   ],
   "source": [
    "y = train_df.ACTION\n",
    "X = train_df.drop('ACTION', axis=1)\n",
    "\n",
    "cat_features = list(range(0, X.shape[1]))\n",
    "print(cat_features)"
   ]
  },
  {
   "cell_type": "markdown",
   "metadata": {},
   "source": [
    "Looking on label balance in dataset"
   ]
  },
  {
   "cell_type": "code",
   "execution_count": 5,
   "metadata": {},
   "outputs": [
    {
     "name": "stdout",
     "output_type": "stream",
     "text": [
      "Labels: {0, 1}\n",
      "Zero count = 1897, One count = 30872\n"
     ]
    }
   ],
   "source": [
    "print('Labels: {}'.format(set(y)))\n",
    "print('Zero count = {}, One count = {}'.format(len(y) - sum(y), sum(y)))"
   ]
  },
  {
   "cell_type": "markdown",
   "metadata": {},
   "source": [
    "Ways to create Pool class. Catboost is able to work with different file types (`.tsv`, `.csv`) and also with or without headers."
   ]
  },
  {
   "cell_type": "code",
   "execution_count": 6,
   "metadata": {},
   "outputs": [],
   "source": [
    "# create folder where we will store the data\n",
    "dataset_dir = './amazon'\n",
    "if not os.path.exists(dataset_dir):\n",
    "    os.makedirs(dataset_dir)\n",
    "\n",
    "\n",
    "# Create train/test files.\n",
    "\n",
    "# First create a .tsv files, where separator is \\t and there is no header.\n",
    "train_df.to_csv(\n",
    "    os.path.join(dataset_dir, 'train.tsv'),\n",
    "    index=False, sep='\\t', header=False\n",
    ")\n",
    "test_df.to_csv(\n",
    "    os.path.join(dataset_dir, 'test.tsv'),\n",
    "    index=False, sep='\\t', header=False\n",
    ")\n",
    "\n",
    "# Also can create .csv files, where separator is , and header is presented.\n",
    "train_df.to_csv(\n",
    "    os.path.join(dataset_dir, 'train.csv'),\n",
    "    index=False, sep=',', header=True\n",
    ")\n",
    "test_df.to_csv(\n",
    "    os.path.join(dataset_dir, 'test.csv'),\n",
    "    index=False, sep=',', header=True\n",
    ")"
   ]
  },
  {
   "cell_type": "code",
   "execution_count": 7,
   "metadata": {},
   "outputs": [
    {
     "name": "stdout",
     "output_type": "stream",
     "text": [
      "ACTION,RESOURCE,MGR_ID,ROLE_ROLLUP_1,ROLE_ROLLUP_2,ROLE_DEPTNAME,ROLE_TITLE,ROLE_FAMILY_DESC,ROLE_FAMILY,ROLE_CODE\r\n",
      "1,39353,85475,117961,118300,123472,117905,117906,290919,117908\r\n",
      "1,17183,1540,117961,118343,123125,118536,118536,308574,118539\r\n",
      "1,36724,14457,118219,118220,117884,117879,267952,19721,117880\r\n",
      "1,36135,5396,117961,118343,119993,118321,240983,290919,118322\r\n",
      "1,42680,5905,117929,117930,119569,119323,123932,19793,119325\r\n",
      "0,45333,14561,117951,117952,118008,118568,118568,19721,118570\r\n",
      "1,25993,17227,117961,118343,123476,118980,301534,118295,118982\r\n",
      "1,19666,4209,117961,117969,118910,126820,269034,118638,126822\r\n",
      "1,31246,783,117961,118413,120584,128230,302830,4673,128231\r\n"
     ]
    }
   ],
   "source": [
    "!head amazon/train.csv"
   ]
  },
  {
   "cell_type": "markdown",
   "metadata": {},
   "source": [
    "Create a column description file for catboost, so it understands where is the target val, where are the features and so on. Here we will specify column types and names."
   ]
  },
  {
   "cell_type": "code",
   "execution_count": 11,
   "metadata": {},
   "outputs": [
    {
     "data": {
      "text/plain": [
       "{0: 'RESOURCE',\n",
       " 1: 'MGR_ID',\n",
       " 2: 'ROLE_ROLLUP_1',\n",
       " 3: 'ROLE_ROLLUP_2',\n",
       " 4: 'ROLE_DEPTNAME',\n",
       " 5: 'ROLE_TITLE',\n",
       " 6: 'ROLE_FAMILY_DESC',\n",
       " 7: 'ROLE_FAMILY',\n",
       " 8: 'ROLE_CODE'}"
      ]
     },
     "execution_count": 11,
     "metadata": {},
     "output_type": "execute_result"
    }
   ],
   "source": [
    "from catboost.utils import create_cd\n",
    "\n",
    "feature_names = dict()\n",
    "for i, column_name in enumerate(train_df.columns):\n",
    "    # skip first column, the target column\n",
    "    if i != 0:\n",
    "        feature_names[i-1] = column_name\n",
    "\n",
    "# Notice that in feature_names indices start from zero (target index is zero, here it is not given)\n",
    "feature_names"
   ]
  },
  {
   "cell_type": "code",
   "execution_count": 9,
   "metadata": {},
   "outputs": [
    {
     "name": "stdout",
     "output_type": "stream",
     "text": [
      "0\tLabel\t\r\n",
      "1\tCateg\tRESOURCE\r\n",
      "2\tCateg\tMGR_ID\r\n",
      "3\tCateg\tROLE_ROLLUP_1\r\n",
      "4\tCateg\tROLE_ROLLUP_2\r\n",
      "5\tCateg\tROLE_DEPTNAME\r\n",
      "6\tCateg\tROLE_TITLE\r\n",
      "7\tCateg\tROLE_FAMILY_DESC\r\n",
      "8\tCateg\tROLE_FAMILY\r\n",
      "9\tCateg\tROLE_CODE\r\n"
     ]
    }
   ],
   "source": [
    "create_cd(\n",
    "    label=0,  # A zero-based index of the target variable. \n",
    "    cat_features=list(range(1, train_df.columns.shape[0])),\n",
    "    feature_names=feature_names,\n",
    "    output_path=os.path.join(dataset_dir, 'train.cd')\n",
    ")\n",
    "\n",
    "!cat amazon/train.cd"
   ]
  },
  {
   "cell_type": "markdown",
   "metadata": {},
   "source": [
    "Imagine we have some non categorical features. This numerical column will not be listed in the `.cd` file."
   ]
  },
  {
   "cell_type": "code",
   "execution_count": 10,
   "metadata": {},
   "outputs": [
    {
     "name": "stdout",
     "output_type": "stream",
     "text": [
      "0\tLabel\t\r\n",
      "2\tCateg\tMGR_ID\r\n",
      "3\tCateg\tROLE_ROLLUP_1\r\n",
      "4\tCateg\tROLE_ROLLUP_2\r\n",
      "5\tCateg\tROLE_DEPTNAME\r\n",
      "6\tCateg\tROLE_TITLE\r\n",
      "7\tCateg\tROLE_FAMILY_DESC\r\n",
      "8\tCateg\tROLE_FAMILY\r\n",
      "9\tCateg\tROLE_CODE\r\n"
     ]
    }
   ],
   "source": [
    "# feature 0 (true index is 1) is numerical (just for example)\n",
    "if 0 in feature_names:\n",
    "    del feature_names[0]\n",
    "\n",
    "create_cd(\n",
    "    label=0,  # A zero-based index of the target variable. \n",
    "    cat_features=[2, 3, 4, 5, 6, 7, 8, 9],\n",
    "    feature_names=feature_names,\n",
    "    output_path=os.path.join(dataset_dir, 'tmp.cd')\n",
    ")\n",
    "\n",
    "!cat amazon/tmp.cd"
   ]
  },
  {
   "cell_type": "markdown",
   "metadata": {},
   "source": [
    "Now create a dataset for training catboost model."
   ]
  },
  {
   "cell_type": "code",
   "execution_count": 12,
   "metadata": {},
   "outputs": [
    {
     "name": "stdout",
     "output_type": "stream",
     "text": [
      "Dataset shape\n",
      "dataset 1:(32769, 9)\n",
      "dataset 2:(32769, 9)\n",
      "dataset 3:(32769, 9)\n",
      "dataset 4:(32769, 9)\n",
      "\n",
      "\n",
      "Column names\n",
      "dataset 1:\n",
      "['RESOURCE', 'MGR_ID', 'ROLE_ROLLUP_1', 'ROLE_ROLLUP_2', 'ROLE_DEPTNAME', 'ROLE_TITLE', 'ROLE_FAMILY_DESC', 'ROLE_FAMILY', 'ROLE_CODE']\n",
      "\n",
      "dataset 2:\n",
      "['RESOURCE', 'MGR_ID', 'ROLE_ROLLUP_1', 'ROLE_ROLLUP_2', 'ROLE_DEPTNAME', 'ROLE_TITLE', 'ROLE_FAMILY_DESC', 'ROLE_FAMILY', 'ROLE_CODE']\n",
      "\n",
      "dataset 3:\n",
      "['RESOURCE', 'MGR_ID', 'ROLE_ROLLUP_1', 'ROLE_ROLLUP_2', 'ROLE_DEPTNAME', 'ROLE_TITLE', 'ROLE_FAMILY_DESC', 'ROLE_FAMILY', 'ROLE_CODE']\n",
      "\n",
      "dataset 4:\n",
      "['RESOURCE', 'MGR_ID', 'ROLE_ROLLUP_1', 'ROLE_ROLLUP_2', 'ROLE_DEPTNAME', 'ROLE_TITLE', 'ROLE_FAMILY_DESC', 'ROLE_FAMILY', 'ROLE_CODE']\n"
     ]
    }
   ],
   "source": [
    "# 1. Create dataset from pandas dataframe and list of categorical features.\n",
    "pool1 = Pool(data=X, label=y, cat_features=cat_features)\n",
    "\n",
    "# 2. Create dataset from file. Need to specify header and column description file\n",
    "pool2 = Pool(\n",
    "    data=os.path.join(dataset_dir, 'train.csv'), \n",
    "    delimiter=',', \n",
    "    column_description=os.path.join(dataset_dir, 'train.cd'),\n",
    "    has_header=True\n",
    ")\n",
    "\n",
    "# 3. Dataset without target, for example for testing. Create from pandas dataframe\n",
    "pool3 = Pool(data=X, cat_features=cat_features)\n",
    "\n",
    "\n",
    "# 4. From FeaturesData class\n",
    "# Fastest way to create a Pool is to create it from numpy matrix.\n",
    "# The creation of pools from this representation is much faster than \n",
    "# from generic numpy.ndarray, pandas.DataFrame or pandas.Series \n",
    "# if the dataset contains both numerical and categorical features, \n",
    "# most of which are numerical.\n",
    "\n",
    "# This method will have zero memory overhead.\n",
    "\n",
    "# FeaturesData takes numpy array.\n",
    "# For FeaturesData class categorial features must have type str\n",
    "X_prepared = X.values.astype(str).astype(object)\n",
    "data = FeaturesData(\n",
    "    num_feature_data=None,  # dataset does not contain numerical features\n",
    "    cat_feature_data=X_prepared,\n",
    "    cat_feature_names=X.columns.values.tolist(),\n",
    ")\n",
    "\n",
    "pool4 = Pool(\n",
    "    data=data,\n",
    "    label=y.values\n",
    ")\n",
    "\n",
    "print('Dataset shape')\n",
    "print('dataset 1:' + str(pool1.shape) +\n",
    "      '\\ndataset 2:' + str(pool2.shape) + \n",
    "      '\\ndataset 3:' + str(pool3.shape) +\n",
    "      '\\ndataset 4:' + str(pool4.shape))\n",
    "\n",
    "print('\\n')\n",
    "print('Column names')\n",
    "print('dataset 1:')\n",
    "print(pool1.get_feature_names()) \n",
    "print('\\ndataset 2:')\n",
    "print(pool2.get_feature_names())\n",
    "print('\\ndataset 3:')\n",
    "print(pool3.get_feature_names())\n",
    "print('\\ndataset 4:')\n",
    "print(pool4.get_feature_names())"
   ]
  },
  {
   "cell_type": "code",
   "execution_count": 13,
   "metadata": {},
   "outputs": [
    {
     "data": {
      "text/plain": [
       "array([1, 1, 1, ..., 1, 1, 1])"
      ]
     },
     "execution_count": 13,
     "metadata": {},
     "output_type": "execute_result"
    }
   ],
   "source": [
    "pool1.get_label()"
   ]
  }
 ],
 "metadata": {
  "kernelspec": {
   "display_name": "Python 3 (ipykernel)",
   "language": "python",
   "name": "python3"
  },
  "language_info": {
   "codemirror_mode": {
    "name": "ipython",
    "version": 3
   },
   "file_extension": ".py",
   "mimetype": "text/x-python",
   "name": "python",
   "nbconvert_exporter": "python",
   "pygments_lexer": "ipython3",
   "version": "3.9.12"
  },
  "widgets": {
   "state": {
    "1057714ebc614324aa3ba2cf69408966": {
     "views": [
      {
       "cell_index": 17
      }
     ]
    },
    "8381e9eed05f4a03905ae8a56d7ab4ea": {
     "views": [
      {
       "cell_index": 48
      }
     ]
    },
    "f49684e8c5c44241bfe2c7f577f5cb41": {
     "views": [
      {
       "cell_index": 53
      }
     ]
    }
   },
   "version": "1.2.0"
  }
 },
 "nbformat": 4,
 "nbformat_minor": 2
}
